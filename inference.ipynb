{
 "cells": [
  {
   "cell_type": "markdown",
   "metadata": {},
   "source": [
    "# Pytorch"
   ]
  },
  {
   "cell_type": "code",
   "execution_count": 1,
   "metadata": {},
   "outputs": [],
   "source": [
    "import os\n",
    "import numpy as np\n",
    "from PIL import Image\n",
    "\n",
    "\n",
    "import torch\n",
    "from torch import nn\n",
    "\n",
    "from torchvision.models.segmentation import fcn_resnet50\n",
    "from torchvision import transforms\n",
    "\n",
    "import onnx\n",
    "import onnxruntime as ort\n"
   ]
  },
  {
   "cell_type": "code",
   "execution_count": 2,
   "metadata": {},
   "outputs": [],
   "source": [
    "img = Image.open(\"../CelebAMask-HQ/CelebA-HQ-img/0.jpg\")"
   ]
  },
  {
   "cell_type": "code",
   "execution_count": 3,
   "metadata": {},
   "outputs": [],
   "source": [
    "transform_img = transforms.Compose([transforms.Resize((512,512)),\n",
    "    transforms.ToTensor(),\n",
    "    transforms.Normalize([0.5, 0.5, 0.5], [0.5, 0.5, 0.5])\n",
    "])"
   ]
  },
  {
   "cell_type": "code",
   "execution_count": 4,
   "metadata": {},
   "outputs": [],
   "source": [
    "imgs = transform_img(img)\n",
    "c,h,w = imgs.shape\n",
    "imgs = imgs.reshape(1,c,h,w)"
   ]
  },
  {
   "cell_type": "markdown",
   "metadata": {},
   "source": [
    "### Download the model from [link](https://drive.google.com/file/d/1OrhIEVdYOd3TvOzao3a4Pz6AgBNlbnQD/view?usp=sharing)"
   ]
  },
  {
   "cell_type": "code",
   "execution_count": 5,
   "metadata": {},
   "outputs": [],
   "source": [
    "checkpoint = torch.load(\"./models/pth/checkpoint-1.pth.tar\")"
   ]
  },
  {
   "cell_type": "code",
   "execution_count": 6,
   "metadata": {},
   "outputs": [],
   "source": [
    "model = fcn_resnet50(pretrained = False)"
   ]
  },
  {
   "cell_type": "code",
   "execution_count": 7,
   "metadata": {},
   "outputs": [],
   "source": [
    "classifier = nn.Sequential(\n",
    "        nn.Conv2d(2048, 512, kernel_size=(3, 3), stride=(1, 1), padding=(1, 1), bias=False),\n",
    "    nn.BatchNorm2d(512, eps=1e-05, momentum=0.1, affine=True, track_running_stats=True),\n",
    "    nn.ReLU(),\n",
    "    nn.Dropout(p=0.1, inplace=False),\n",
    "    nn.Conv2d(512, 19, kernel_size=(1, 1), stride=(1, 1)))\n",
    "\n",
    "model.classifier = classifier"
   ]
  },
  {
   "cell_type": "code",
   "execution_count": 8,
   "metadata": {},
   "outputs": [],
   "source": [
    "del checkpoint[\"model\"][\"aux_classifier.0.weight\"]\n",
    "del checkpoint[\"model\"][\"aux_classifier.1.weight\"]\n",
    "del checkpoint[\"model\"][\"aux_classifier.1.bias\"]\n",
    "del checkpoint[\"model\"][\"aux_classifier.1.running_mean\"]\n",
    "del checkpoint[\"model\"][\"aux_classifier.1.running_var\"]\n",
    "del checkpoint[\"model\"][\"aux_classifier.1.num_batches_tracked\"]\n",
    "del checkpoint[\"model\"][\"aux_classifier.4.weight\"]\n",
    "del checkpoint[\"model\"][\"aux_classifier.4.bias\"]"
   ]
  },
  {
   "cell_type": "code",
   "execution_count": 9,
   "metadata": {},
   "outputs": [],
   "source": [
    "model = model.cuda()"
   ]
  },
  {
   "cell_type": "code",
   "execution_count": 10,
   "metadata": {},
   "outputs": [
    {
     "data": {
      "text/plain": [
       "<All keys matched successfully>"
      ]
     },
     "execution_count": 10,
     "metadata": {},
     "output_type": "execute_result"
    }
   ],
   "source": [
    "model.load_state_dict(checkpoint[\"model\"])"
   ]
  },
  {
   "cell_type": "code",
   "execution_count": 11,
   "metadata": {},
   "outputs": [],
   "source": [
    "model = model.requires_grad_(False)"
   ]
  },
  {
   "cell_type": "code",
   "execution_count": 12,
   "metadata": {},
   "outputs": [],
   "source": [
    "output = model.forward(imgs.cuda())[\"out\"]"
   ]
  },
  {
   "cell_type": "code",
   "execution_count": 13,
   "metadata": {},
   "outputs": [],
   "source": [
    "output = output.permute(0,2,3,1).squeeze().argmax(axis = 2).cpu().numpy()"
   ]
  },
  {
   "cell_type": "markdown",
   "metadata": {},
   "source": [
    "## For all labels"
   ]
  },
  {
   "cell_type": "code",
   "execution_count": 14,
   "metadata": {},
   "outputs": [],
   "source": [
    "label_list = ['skin', 'nose', 'eye_g', 'l_eye', 'r_eye', 'l_brow', 'r_brow', 'l_ear', 'r_ear', 'mouth', 'u_lip', 'l_lip', 'hair', 'hat', 'ear_r', 'neck_l', 'neck', 'cloth']\n",
    "\n",
    "colors = np.array([[  3, 120, 213],\n",
    "       [180,   5, 211],\n",
    "       [247,  89, 109],\n",
    "       [ 23,  25,  45],\n",
    "       [ 93,   6, 253],\n",
    "       [249,  93, 234],\n",
    "       [ 58,  20, 155],\n",
    "       [  7, 216, 167],\n",
    "       [ 65, 237,  65],\n",
    "       [245, 142, 148],\n",
    "       [144,  11,  81],\n",
    "       [ 46, 195, 165],\n",
    "       [197,  51,   0],\n",
    "       [189, 159,  20],\n",
    "       [181, 208, 158],\n",
    "       [233,  87,  54],\n",
    "       [ 35,  74,  36],\n",
    "       [198,  40, 139],\n",
    "       [ 97,  77, 189]])"
   ]
  },
  {
   "cell_type": "code",
   "execution_count": 15,
   "metadata": {},
   "outputs": [
    {
     "data": {
      "image/png": "[encoded data removed]",
      "text/plain": [
       "<PIL.Image.Image image mode=RGB size=512x512 at 0x7F1784F32210>"
      ]
     },
     "execution_count": 15,
     "metadata": {},
     "output_type": "execute_result"
    }
   ],
   "source": [
    "im_base = np.zeros((512, 512, 3))\n",
    "for x in range(len(label_list)+1):\n",
    "    im_base[output == x] = colors[x]\n",
    "\n",
    "result = Image.fromarray((im_base).astype(np.uint8))\n",
    "result"
   ]
  },
  {
   "cell_type": "markdown",
   "metadata": {},
   "source": [
    "# ONNX-RUNTIME"
   ]
  },
  {
   "cell_type": "code",
   "execution_count": 18,
   "metadata": {},
   "outputs": [],
   "source": [
    "img = Image.open(\"../CelebAMask-HQ/CelebA-HQ-img/0.jpg\")"
   ]
  },
  {
   "cell_type": "code",
   "execution_count": 19,
   "metadata": {},
   "outputs": [],
   "source": [
    "transform_img = transforms.Compose([transforms.Resize((512,512)),\n",
    "    transforms.ToTensor(),\n",
    "    transforms.Normalize([0.5, 0.5, 0.5], [0.5, 0.5, 0.5])\n",
    "])"
   ]
  },
  {
   "cell_type": "code",
   "execution_count": 20,
   "metadata": {},
   "outputs": [],
   "source": [
    "imgs = transform_img(img)\n",
    "c,h,w = imgs.shape\n",
    "imgs = imgs.reshape(1,c,h,w)"
   ]
  },
  {
   "cell_type": "markdown",
   "metadata": {},
   "source": [
    "### Download the model from [link](https://drive.google.com/file/d/17m_jhdMGAjm8ieL5Gh61f68zTyD-OYQF/view?usp=sharing)"
   ]
  },
  {
   "cell_type": "code",
   "execution_count": 21,
   "metadata": {},
   "outputs": [],
   "source": [
    "model = onnx.load(\"./models/onnx/checkpoint-onnx-1.onnx\")"
   ]
  },
  {
   "cell_type": "code",
   "execution_count": 23,
   "metadata": {},
   "outputs": [],
   "source": [
    "ort_session = ort.InferenceSession(\"./models/onnx/checkpoint-onnx-1.onnx\")\n",
    "\n",
    "outputs = ort_session.run([\"output\"], {'input': imgs.numpy().astype(np.float32)})\n",
    "\n",
    "outputs[0] = outputs[0]#.squeeze() * 255"
   ]
  },
  {
   "cell_type": "code",
   "execution_count": 24,
   "metadata": {},
   "outputs": [],
   "source": [
    "output = outputs[0].transpose(0,2,3,1).squeeze().argmax(axis = 2)"
   ]
  },
  {
   "cell_type": "code",
   "execution_count": 25,
   "metadata": {},
   "outputs": [
    {
     "data": {
      "text/plain": [
       "(512, 512)"
      ]
     },
     "execution_count": 25,
     "metadata": {},
     "output_type": "execute_result"
    }
   ],
   "source": [
    "output.shape"
   ]
  },
  {
   "cell_type": "code",
   "execution_count": 26,
   "metadata": {},
   "outputs": [
    {
     "data": {
      "image/png": "[encoded data removed]",
      "text/plain": [
       "<PIL.Image.Image image mode=RGB size=512x512 at 0x7F1785587F50>"
      ]
     },
     "execution_count": 26,
     "metadata": {},
     "output_type": "execute_result"
    }
   ],
   "source": [
    "im_base = np.zeros((512, 512, 3))\n",
    "for x in range(19):\n",
    "    im_base[output == x] = colors[x]\n",
    "\n",
    "result = Image.fromarray((im_base).astype(np.uint8))\n",
    "result"
   ]
  }
 ],
 "metadata": {
  "kernelspec": {
   "display_name": "Python 3",
   "language": "python",
   "name": "python3"
  },
  "language_info": {
   "codemirror_mode": {
    "name": "ipython",
    "version": 3
   },
   "file_extension": ".py",
   "mimetype": "text/x-python",
   "name": "python",
   "nbconvert_exporter": "python",
   "pygments_lexer": "ipython3",
   "version": "3.7.5"
  }
 },
 "nbformat": 4,
 "nbformat_minor": 4
}
